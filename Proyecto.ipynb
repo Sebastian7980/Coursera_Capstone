{
 "cells": [
  {
   "cell_type": "markdown",
   "id": "bdcfddc8",
   "metadata": {},
   "source": [
    "Ahora, inicie un Notebook Jupyter utilizando cualquier plataforma con la que se sienta cómodo y haga lo siguiente:\n",
    "\n",
    "1.     Escriba algunas anotaciones para explicar que este notebook se utilizará principalmente para el proyecto final.\n",
    "\n",
    "2.     Importe la biblioteca de pandas como pd.\n",
    "\n",
    "3.     Importe la biblioteca Numpy como np.\n",
    "\n",
    "4.     Imprima la siguiente declaración: ¡Hola, Proyecto Final del Curso!"
   ]
  },
  {
   "cell_type": "markdown",
   "id": "5f960516",
   "metadata": {},
   "source": [
    "Este sera el notebook que se utilizaa principalmente para el proyecto"
   ]
  },
  {
   "cell_type": "code",
   "execution_count": 1,
   "id": "97401f66",
   "metadata": {},
   "outputs": [],
   "source": [
    "import pandas as pd\n",
    "import numpy as np"
   ]
  },
  {
   "cell_type": "code",
   "execution_count": 2,
   "id": "77f02da3",
   "metadata": {},
   "outputs": [
    {
     "name": "stdout",
     "output_type": "stream",
     "text": [
      "¡Hola, Proyecto Final del Curso!\n"
     ]
    }
   ],
   "source": [
    "print(\"¡Hola, Proyecto Final del Curso!\")"
   ]
  }
 ],
 "metadata": {
  "kernelspec": {
   "display_name": "Python 3 (ipykernel)",
   "language": "python",
   "name": "python3"
  },
  "language_info": {
   "codemirror_mode": {
    "name": "ipython",
    "version": 3
   },
   "file_extension": ".py",
   "mimetype": "text/x-python",
   "name": "python",
   "nbconvert_exporter": "python",
   "pygments_lexer": "ipython3",
   "version": "3.11.2"
  }
 },
 "nbformat": 4,
 "nbformat_minor": 5
}
