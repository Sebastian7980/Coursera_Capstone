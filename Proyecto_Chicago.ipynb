{
 "cells": [
  {
   "cell_type": "markdown",
   "id": "c1988fd2",
   "metadata": {},
   "source": [
    "## Proyecto Final Batalla de los Vecindarios"
   ]
  },
  {
   "cell_type": "markdown",
   "id": "fd7212b1",
   "metadata": {},
   "source": [
    "La elección del lugar para un negocio es una de las decisiones más importantes que debe tomar un emprendedor o empresario. La ubicación del negocio puede afectar significativamente su éxito o fracaso. A continuación, se describen algunas de las razones por las que la elección del lugar es importante:\n",
    "\n",
    "* Accesibilidad: Es importante elegir una ubicación que sea fácilmente accesible para los clientes. Si el negocio está ubicado en un lugar remoto o difícil de encontrar, puede disuadir a los clientes potenciales de visitarlo. Por lo tanto, es importante elegir un lugar que esté cerca de las principales vías de transporte, como autopistas, carreteras, estaciones de tren, etc.\n",
    "\n",
    "* Visibilidad: La visibilidad del negocio también es importante. Si el negocio está ubicado en un lugar donde es difícil de ver, es posible que los clientes potenciales no se den cuenta de su existencia. Por lo tanto, es importante elegir un lugar que tenga una buena visibilidad y que pueda ser visto fácilmente por los transeúntes.\n",
    "\n",
    "* Demografía: Es importante conocer la demografía del área donde se va a establecer el negocio. Si el negocio está dirigido a una audiencia específica, es importante elegir un lugar que esté cerca de esa audiencia. Por ejemplo, si el negocio está dirigido a jóvenes, puede ser beneficioso ubicarlo cerca de una universidad o escuela secundaria.\n",
    "\n",
    "* Competencia: Es importante investigar a la competencia antes de elegir un lugar para el negocio. Si hay muchos negocios similares en la misma área, puede ser difícil para un nuevo negocio competir. Por lo tanto, es importante elegir un lugar donde la competencia no sea tan fuerte.\n",
    "\n",
    "* Costo: El costo de la renta o compra del lugar también es importante. Un negocio debe ser capaz de pagar el alquiler o la hipoteca sin afectar su rentabilidad. Por lo tanto, es importante elegir un lugar que sea asequible y que no suponga una carga financiera para el negocio.\n",
    "\n",
    "En general, la elección del lugar es una de las decisiones más importantes que debe tomar un emprendedor o empresario. Es importante considerar la accesibilidad, visibilidad, demografía, competencia y costo al elegir un lugar para el negocio."
   ]
  },
  {
   "cell_type": "markdown",
   "id": "debb85e9",
   "metadata": {},
   "source": [
    "## Datos"
   ]
  },
  {
   "cell_type": "markdown",
   "id": "4792c641",
   "metadata": {},
   "source": [
    "* Se utilizara la API de Google Places para obtener datos sobre lugares y negocios cercanos en Chicago. Los \n",
    "datos incluirán información sobre la ubicación geográfica (latitud y longitud), tipo de negocio y popularidad. Luego, \n",
    "utilizaremos estos datos para identificar áreas de alta y baja popularidad, lo que nos permitirá recomendar ubicaciones para \n",
    "abrir un restaurante u oficina."
   ]
  }
 ],
 "metadata": {
  "kernelspec": {
   "display_name": "Python 3 (ipykernel)",
   "language": "python",
   "name": "python3"
  },
  "language_info": {
   "codemirror_mode": {
    "name": "ipython",
    "version": 3
   },
   "file_extension": ".py",
   "mimetype": "text/x-python",
   "name": "python",
   "nbconvert_exporter": "python",
   "pygments_lexer": "ipython3",
   "version": "3.11.2"
  }
 },
 "nbformat": 4,
 "nbformat_minor": 5
}
